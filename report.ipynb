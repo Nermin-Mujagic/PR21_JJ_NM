{
 "cells": [
  {
   "cell_type": "markdown",
   "id": "9658ef3b",
   "metadata": {},
   "source": [
    "# Analiza vzrokov prometnih nesreč v Sloveniji\n",
    "S to analizo sva želela pokazati glavne razloge/faktorje za prometne nesreče v Sloveniji.\n",
    "\n",
    "## Člana\n",
    "* Nermin Mujagić\n",
    "* Jaša Jovan\n",
    "\n",
    "## Opis podatkov\n",
    "Za projektno nalogo sva zbrala podatke na spletni strani podatki.gov.si, kjer sva vzela [podatke o prometnih nesrečah od leta 2009 pa do leta 2019](https://podatki.gov.si/dataset/mnzpprometne-nesrece-od-leta-2009-dalje). Datoteke so med seboj ločene po letih.\n",
    "\n",
    "## Cilji\n",
    "- starost udeleženca / vozniški staž\n",
    "- delež alkohola v krvi\n",
    "- vpliv dela prostih praznikov\n",
    "- vpliv letnih casov\n",
    "- starostne skupine\n",
    "\n",
    "## Rezultati"
   ]
  },
  {
   "cell_type": "markdown",
   "id": "3e325438",
   "metadata": {},
   "source": [
    "# Imports"
   ]
  },
  {
   "cell_type": "code",
   "execution_count": 1,
   "id": "1771c2e2",
   "metadata": {},
   "outputs": [],
   "source": [
    "from csv import DictReader\n",
    "import numpy as np\n",
    "import chardet\n",
    "import matplotlib\n",
    "from scipy import stats\n",
    "import collections\n",
    "from datetime import datetime\n",
    "\n",
    "import matplotlib.pyplot as plt"
   ]
  },
  {
   "cell_type": "markdown",
   "id": "1a10f470",
   "metadata": {},
   "source": [
    "# Vnos podatkov"
   ]
  },
  {
   "cell_type": "code",
   "execution_count": 2,
   "id": "41843f74",
   "metadata": {},
   "outputs": [],
   "source": [
    "reader = DictReader(open('data/pn2019.csv','rt', encoding='Windows-1252'),delimiter=';')\n",
    "podatki19 = np.array([[row['KlasifikacijaNesrece'], row['VrednostAlkotesta'], row['VozniskiStazVLetih'], row['UraPN'], row['DatumPN'], row['Spol'], row['Starost']] for row in reader])\n",
    "\n",
    "reader = DictReader(open('data/pn2018.csv','rt', encoding='Windows-1252'),delimiter=';')\n",
    "podatki18 = np.array([[row['KlasifikacijaNesrece'], row['VrednostAlkotesta'], row['VozniskiStazVLetih'], row['UraPN'], row['DatumPN'], row['Spol'], row['Starost']] for row in reader])\n",
    "\n",
    "reader = DictReader(open('data/pn2017.csv','rt', encoding='Windows-1252'),delimiter=';')\n",
    "podatki17 = np.array([[row['KlasifikacijaNesrece'], row['VrednostAlkotesta'], row['VozniskiStazVLetih'], row['UraPN'], row['DatumPN'], row['Spol'], row['Starost']] for row in reader])\n",
    "\n",
    "reader = DictReader(open('data/pn2016.csv','rt', encoding='Windows-1252'),delimiter=';')\n",
    "podatki16 = np.array([[row['KlasifikacijaNesrece'], row['VrednostAlkotesta'], row['VozniskiStazVLetih'], row['UraPN'], row['DatumPN'], row['Spol'], row['Starost']] for row in reader])\n",
    "\n",
    "reader = DictReader(open('data/pn2015.csv','rt', encoding='Windows-1252'),delimiter=';')\n",
    "podatki15 = np.array([[row['KlasifikacijaNesrece'], row['VrednostAlkotesta'], row['VozniskiStazVLetih'], row['UraPN'], row['DatumPN'], row['Spol'], row['Starost']] for row in reader])\n",
    "\n",
    "reader = DictReader(open('data/pn2014.csv','rt', encoding='Windows-1252'),delimiter=';')\n",
    "podatki14 = np.array([[row['KlasifikacijaNesrece'], row['VrednostAlkotesta'], row['VozniskiStazVLetih'], row['UraPN'], row['DatumPN'], row['Spol'], row['Starost']] for row in reader])\n",
    "\n",
    "reader = DictReader(open('data/pn2013.csv','rt', encoding='Windows-1252'),delimiter=';')\n",
    "podatki13 = np.array([[row['KlasifikacijaNesrece'], row['VrednostAlkotesta'], row['VozniskiStazVLetih'], row['UraPN'], row['DatumPN'], row['Spol'], row['Starost']] for row in reader])\n",
    "\n",
    "reader = DictReader(open('data/pn2012.csv','rt', encoding='Windows-1252'),delimiter=';')\n",
    "podatki12 = np.array([[row['KlasifikacijaNesrece'], row['VrednostAlkotesta'], row['VozniskiStazVLetih'], row['UraPN'], row['DatumPN'], row['Spol'], row['Starost']] for row in reader])\n",
    "\n",
    "reader = DictReader(open('data/pn2011.csv','rt', encoding='Windows-1252'),delimiter=';')\n",
    "podatki11 = np.array([[row['KlasifikacijaNesrece'], row['VrednostAlkotesta'], row['VozniskiStazVLetih'], row['UraPN'], row['DatumPN'], row['Spol'], row['Starost']] for row in reader])\n",
    "\n",
    "reader = DictReader(open('data/pn2010.csv','rt', encoding='Windows-1252'),delimiter=';')\n",
    "podatki10 = np.array([[row['KlasifikacijaNesrece'], row['VrednostAlkotesta'], row['VozniskiStazVLetih'], row['UraPN'], row['DatumPN'], row['Spol'], row['Starost']] for row in reader])\n",
    "\n",
    "reader = DictReader(open('data/pn2009.csv','rt', encoding='Windows-1252'),delimiter=';')\n",
    "podatki09 = np.array([[row['KlasifikacijaNesrece'], row['VrednostAlkotesta'], row['VozniskiStazVLetih'], row['UraPN'], row['DatumPN'], row['Spol'], row['Starost']] for row in reader])"
   ]
  },
  {
   "cell_type": "code",
   "execution_count": 3,
   "id": "74c79961",
   "metadata": {},
   "outputs": [
    {
     "data": {
      "text/plain": [
       "397373"
      ]
     },
     "execution_count": 3,
     "metadata": {},
     "output_type": "execute_result"
    }
   ],
   "source": [
    "# zdruzevanje vsega v en array\n",
    "podatki = np.concatenate((podatki09, podatki10, podatki11, podatki12, \n",
    "                          podatki13, podatki14, podatki15, podatki16, \n",
    "                          podatki17, podatki18, podatki19))\n",
    "podatki.shape[0]"
   ]
  },
  {
   "cell_type": "markdown",
   "id": "601f914b",
   "metadata": {},
   "source": [
    "Kot vidimo imamo 397373 vseh ločenih primerov."
   ]
  },
  {
   "cell_type": "markdown",
   "id": "8137aecb",
   "metadata": {},
   "source": [
    "# Popravki, dodajanje"
   ]
  },
  {
   "cell_type": "code",
   "execution_count": 4,
   "id": "7de07b50",
   "metadata": {},
   "outputs": [],
   "source": [
    "# popravljaje alkotest vrednosti\n",
    "for i in range(len(podatki19)):\n",
    "    podatki19[i][1] = float(podatki19[i][1].replace(',','.'))\n",
    "    \n",
    "# dobimo samo uro\n",
    "ure = [[ura.split(\".\")[0]] for ura in podatki19[:, 3]]\n",
    "podatki19 = np.append(podatki19, ure, axis=1)\n",
    "\n",
    "# dodajanje datetimes\n",
    "datetimes = []\n",
    "for row in podatki19:\n",
    "    ura, minute = row[3].split(\".\")\n",
    "    dan, mesec, leto = row[4].split(\".\")\n",
    "    \n",
    "    datetimes.append([datetime(int(leto), int(mesec), int(dan), int(ura), int(minute))])\n",
    "    \n",
    "podatki19 = np.append(podatki19, datetimes, axis=1)\n",
    "    \n",
    "\n",
    "# dodajanje dnevov iz datuma\n",
    "dnevi = [[datetime.strptime(d, \"%d.%m.%Y\").strftime('%A')] for d in podatki19[:, 4]]\n",
    "\n",
    "podatki19 = np.append(podatki19, dnevi, axis=1)\n",
    "\n",
    "# starostne skupine\n",
    "# mladi -> 16-24\n",
    "# odrasli -> 25-64\n",
    "# starejsi -> 64<\n",
    "star_skupine = []\n",
    "for row in podatki19:\n",
    "    starost = int(row[6])\n",
    "    if starost >= 16 and starost <= 24:\n",
    "        star_skupine.append([\"1\"])\n",
    "    elif starost >= 25 and starost <= 64:\n",
    "        star_skupine.append([\"2\"])\n",
    "    elif starost >= 65:\n",
    "        star_skupine.append([\"3\"])\n",
    "    else:\n",
    "        star_skupine.append([\"-1\"])\n",
    "        \n",
    "podatki19 = np.append(podatki19, star_skupine, axis=1)\n",
    "\n",
    "# letni casi\n",
    "letni_casi = []\n",
    "\n",
    "for d in podatki19[:, 8]:\n",
    "    t_leto = d.year\n",
    "    if d >= datetime(t_leto, 3, 21) and d <= datetime(t_leto, 6, 21): # pomlad\n",
    "        letni_casi.append([\"1\"])\n",
    "        \n",
    "    elif d > datetime(t_leto, 6, 21) and d <= datetime(t_leto, 9, 23): # poletje\n",
    "        letni_casi.append([\"2\"])\n",
    "    \n",
    "    elif d > datetime(t_leto, 9, 23) and d <= datetime(t_leto, 12, 21): # jesen\n",
    "        letni_casi.append([\"3\"])\n",
    "    \n",
    "    else: # zima\n",
    "        letni_casi.append([\"4\"])\n",
    "\n",
    "podatki19 = np.append(podatki19, letni_casi, axis=1)"
   ]
  },
  {
   "cell_type": "code",
   "execution_count": 5,
   "id": "d3a72fab",
   "metadata": {},
   "outputs": [],
   "source": [
    "# popravljaje alkotest vrednosti\n",
    "for i in range(len(podatki)):\n",
    "    podatki[i][1] = float(podatki[i][1].replace(',','.'))\n",
    "    \n",
    "# dobimo samo uro\n",
    "ure = [[ura.split(\".\")[0]] for ura in podatki[:, 3]]\n",
    "podatki = np.append(podatki, ure, axis=1)\n",
    "\n",
    "# dodajanje datetimes\n",
    "datetimes = []\n",
    "for row in podatki:\n",
    "    ura, minute = row[3].split(\".\")\n",
    "    dan, mesec, leto = row[4].split(\".\")\n",
    "    \n",
    "    datetimes.append([datetime(int(leto), int(mesec), int(dan), int(ura), int(minute))])\n",
    "    \n",
    "podatki = np.append(podatki, datetimes, axis=1)\n",
    "    \n",
    "\n",
    "# dodajanje dnevov iz datuma\n",
    "dnevi = [[datetime.strptime(d, \"%d.%m.%Y\").strftime('%A')] for d in podatki[:, 4]]\n",
    "\n",
    "podatki = np.append(podatki, dnevi, axis=1)\n",
    "\n",
    "# starostne skupine\n",
    "# mladi -> 16-24\n",
    "# odrasli -> 25-64\n",
    "# starejsi -> 64<\n",
    "star_skupine = []\n",
    "for row in podatki:\n",
    "    starost = int(row[6])\n",
    "    if starost >= 16 and starost <= 24:\n",
    "        star_skupine.append([\"1\"])\n",
    "    elif starost >= 25 and starost <= 64:\n",
    "        star_skupine.append([\"2\"])\n",
    "    elif starost >= 65:\n",
    "        star_skupine.append([\"3\"])\n",
    "    else:\n",
    "        star_skupine.append([\"-1\"])\n",
    "        \n",
    "podatki = np.append(podatki, star_skupine, axis=1)\n",
    "\n",
    "# letni casi\n",
    "letni_casi = []\n",
    "\n",
    "for d in podatki[:, 8]:\n",
    "    t_leto = d.year\n",
    "    if d >= datetime(t_leto, 3, 21) and d <= datetime(t_leto, 6, 21): # pomlad\n",
    "        letni_casi.append([\"1\"])\n",
    "        \n",
    "    elif d > datetime(t_leto, 6, 21) and d <= datetime(t_leto, 9, 23): # poletje\n",
    "        letni_casi.append([\"2\"])\n",
    "    \n",
    "    elif d > datetime(t_leto, 9, 23) and d <= datetime(t_leto, 12, 21): # jesen\n",
    "        letni_casi.append([\"3\"])\n",
    "    \n",
    "    else: # zima\n",
    "        letni_casi.append([\"4\"])\n",
    "\n",
    "podatki = np.append(podatki, letni_casi, axis=1)"
   ]
  },
  {
   "cell_type": "markdown",
   "id": "cde942d9",
   "metadata": {},
   "source": [
    "# Porazdelitev klasifikacij nesreč"
   ]
  },
  {
   "cell_type": "code",
   "execution_count": 6,
   "id": "f9d54995",
   "metadata": {},
   "outputs": [
    {
     "data": {
      "text/plain": [
       "<BarContainer object of 4 artists>"
      ]
     },
     "execution_count": 6,
     "metadata": {},
     "output_type": "execute_result"
    },
    {
     "data": {
      "image/png": "[encoded data removed]",
      "text/plain": [
       "<Figure size 432x288 with 1 Axes>"
      ]
     },
     "metadata": {
      "needs_background": "light"
     },
     "output_type": "display_data"
    }
   ],
   "source": [
    "vrste = dict()\n",
    "for poskodba in podatki[:, 0]:\n",
    "    if(poskodba not in vrste):\n",
    "        vrste[poskodba] = 1\n",
    "    else:\n",
    "        vrste[poskodba] += 1\n",
    "\n",
    "x = list(vrste.values())\n",
    "y = list(vrste.keys())\n",
    "\n",
    "plt.title(\"Porazdelitev klasifikacij nesreče\")\n",
    "plt.xlabel(\"Št. nesreč\")\n",
    "plt.barh(y, x)"
   ]
  },
  {
   "cell_type": "markdown",
   "id": "f55aa4a4",
   "metadata": {},
   "source": [
    "Največ izidov nesreč je le z materialno škodo, kar je tudi pričakovano, saj je manjša verjetnost poškodbe pri nesrečah, kot je le škoda na avtomobilu ali okolici. Najmanj je srmtnih izidov."
   ]
  },
  {
   "cell_type": "markdown",
   "id": "afc64838",
   "metadata": {},
   "source": [
    "# Delež voznikov pod in nad dovoljeno mejo."
   ]
  },
  {
   "cell_type": "code",
   "execution_count": 7,
   "id": "906bc781",
   "metadata": {
    "scrolled": true
   },
   "outputs": [
    {
     "data": {
      "image/png": "[encoded data removed]",
      "text/plain": [
       "<Figure size 432x288 with 1 Axes>"
      ]
     },
     "metadata": {},
     "output_type": "display_data"
    }
   ],
   "source": [
    "alkotest = np.array([float(value) for value in podatki[:,1]])\n",
    "meja = 0.24\n",
    "\n",
    "podMeja = alkotest[alkotest[:] < meja]\n",
    "nadMeja = alkotest[alkotest[:] >= meja]\n",
    "\n",
    "# Delež voznikov, ki so napihali nad dovoljeno mejo je le 4.4%\n",
    "len(nadMeja) / len(alkotest)\n",
    "\n",
    "labels = 'pod mejo', 'nad mejo'\n",
    "sizes = [len(podMeja), len(nadMeja)]\n",
    "\n",
    "plt.title(\"Delež voznikov nad in pod dovoljeno mejo\")\n",
    "plt.pie(sizes, labels=labels, autopct='%1.1f%%', shadow=True, explode=(0.4,0))\n",
    "plt.show()"
   ]
  },
  {
   "cell_type": "markdown",
   "id": "bccd9ecd",
   "metadata": {},
   "source": [
    "Najbolj zanimiv podatek za naju je bil, da je le 4.5% voznikov imelo prekomerno vsebino alkohola pri alkotestu (vpihu). Pričakovala sva, da bo to večji delež. Verjetno se bo izkazalo, da bo korelacija precej močna."
   ]
  },
  {
   "cell_type": "markdown",
   "id": "81930e55",
   "metadata": {},
   "source": [
    "# Nesreče vozniški staž"
   ]
  },
  {
   "cell_type": "code",
   "execution_count": 8,
   "id": "6fed2a7a",
   "metadata": {},
   "outputs": [
    {
     "name": "stdout",
     "output_type": "stream",
     "text": [
      "DescribeResult(nobs=397373, minmax=(0, 99), mean=13.630108235838872, variance=201.4330764599538, skewness=0.9073845711636381, kurtosis=-0.09489286626119453)\n"
     ]
    },
    {
     "data": {
      "text/plain": [
       "[<matplotlib.lines.Line2D at 0x7fba88c05cd0>]"
      ]
     },
     "execution_count": 8,
     "metadata": {},
     "output_type": "execute_result"
    },
    {
     "data": {
      "image/png": "[encoded data removed]",
      "text/plain": [
       "<Figure size 432x288 with 1 Axes>"
      ]
     },
     "metadata": {
      "needs_background": "light"
     },
     "output_type": "display_data"
    }
   ],
   "source": [
    "vozniskiStaz = np.array([int(value) for value in podatki[:,2]])\n",
    "stazNesrece = collections.Counter(vozniskiStaz)\n",
    "\n",
    "print(stats.describe(vozniskiStaz))\n",
    "\n",
    "stazNesrece = collections.OrderedDict(sorted(stazNesrece.items()))\n",
    "\n",
    "keys = list(stazNesrece.keys())\n",
    "values = list(stazNesrece.values())\n",
    "\n",
    "plt.title('Št. nesreč glede na št. let vozniškega staža')\n",
    "plt.ylabel('Št. nesreč')\n",
    "plt.xlabel('Št. let vozniškega staža')\n",
    "plt.plot(keys,values)"
   ]
  },
  {
   "cell_type": "markdown",
   "id": "a1b12f4d",
   "metadata": {},
   "source": [
    "Zelo očitno da je največ nesreč pri vozniškemu stažu do 1 leta. Trend je takšen, da z več leti staža, manjša se št. nesreč. Vredno je tudi omeniti, da seveda ker so podatki od 2009 - 2019, je seveda največ zabeleženo o tistih, ki imajo 10 let staž ali manj. Povprecno stevilo vozniškega staza je 15.7 let."
   ]
  },
  {
   "cell_type": "markdown",
   "id": "455bc574",
   "metadata": {},
   "source": [
    "# Nesreče ponoči\n",
    "### Nesreče ponoči"
   ]
  },
  {
   "cell_type": "code",
   "execution_count": 9,
   "id": "4becfa4d",
   "metadata": {},
   "outputs": [
    {
     "data": {
      "text/plain": [
       "0.05986566777309983"
      ]
     },
     "execution_count": 9,
     "metadata": {},
     "output_type": "execute_result"
    }
   ],
   "source": [
    "# Nesreče ponoči 23h -> 4h\n",
    "nesrece_ponoci = podatki[(podatki[:, 7].astype(int) < 5) | (podatki[:, 7].astype(int) > 22)]\n",
    "\n",
    "len(nesrece_ponoci) / len(podatki)"
   ]
  },
  {
   "cell_type": "markdown",
   "id": "06f09e59",
   "metadata": {},
   "source": [
    "Približno 6% nesreč se zgodi ponoči."
   ]
  },
  {
   "cell_type": "markdown",
   "id": "c3bbbd07",
   "metadata": {},
   "source": [
    "### Delež prekomerno vinjenih ponoči"
   ]
  },
  {
   "cell_type": "code",
   "execution_count": 10,
   "id": "24441002",
   "metadata": {},
   "outputs": [
    {
     "data": {
      "text/plain": [
       "0.7528269368195385"
      ]
     },
     "execution_count": 10,
     "metadata": {},
     "output_type": "execute_result"
    }
   ],
   "source": [
    "alkotestPonoci = np.array([float(value) for value in podatki[:, 1]])\n",
    "nadMejaPonoci = alkotestPonoci[alkotestPonoci[:] >= meja]\n",
    "\n",
    "len(nadMejaPonoci) / len(nesrece_ponoci)"
   ]
  },
  {
   "cell_type": "markdown",
   "id": "3643f241",
   "metadata": {},
   "source": [
    "Kar 75% voznikov je prekomerno vinjenih ponoči."
   ]
  },
  {
   "cell_type": "markdown",
   "id": "23e9e669",
   "metadata": {},
   "source": [
    "# Tedenska statistika"
   ]
  },
  {
   "cell_type": "code",
   "execution_count": 11,
   "id": "b7c2772d",
   "metadata": {
    "scrolled": true
   },
   "outputs": [
    {
     "name": "stdout",
     "output_type": "stream",
     "text": [
      "Ponedeljek 0.02241165241928783 60245\n",
      "Torek 0.024300475413574593 57003\n",
      "Sreda 0.024619905757570545 59209\n",
      "Cetrtek 0.0273486606550854 60328\n",
      "Petek 0.03268573630796888 70059\n",
      "Sobota 0.055343536432765364 51945\n",
      "Nedelja 0.05845039394567683 38584\n"
     ]
    },
    {
     "data": {
      "image/png": "[encoded data removed]",
      "text/plain": [
       "<Figure size 936x288 with 2 Axes>"
      ]
     },
     "metadata": {
      "needs_background": "light"
     },
     "output_type": "display_data"
    }
   ],
   "source": [
    "labels = [\"Ponedeljek\", \"Torek\", \"Sreda\", \"Cetrtek\", \"Petek\", \"Sobota\", \"Nedelja\"]\n",
    "\n",
    "ponedeljek = podatki[podatki[:, 9] == \"Monday\", 1]\n",
    "torek = podatki[podatki[:, 9] == \"Tuesday\", 1]\n",
    "sreda = podatki[podatki[:, 9] == \"Wednesday\", 1]\n",
    "cetrtek = podatki[podatki[:, 9] == \"Thursday\", 1]\n",
    "petek = podatki[podatki[:, 9] == \"Friday\", 1]\n",
    "sobota = podatki[podatki[:, 9] == \"Saturday\", 1]\n",
    "nedelja = podatki[podatki[:, 9] == \"Sunday\", 1]\n",
    "\n",
    "avg_ponedeljek = sum(ponedeljek.astype(float)) / len(ponedeljek)\n",
    "avg_torek = sum(torek.astype(float)) / len(torek)\n",
    "avg_sreda = sum(sreda.astype(float)) / len(sreda)\n",
    "avg_cetrtek = sum(cetrtek.astype(float)) / len(cetrtek)\n",
    "avg_petek = sum(petek.astype(float)) / len(petek)\n",
    "avg_sobota = sum(sobota.astype(float)) / len(sobota)\n",
    "avg_nedelja = sum(nedelja.astype(float)) / len(nedelja)\n",
    "\n",
    "x_povp = [avg_ponedeljek, avg_torek, avg_sreda, avg_cetrtek, avg_petek, avg_sobota, avg_nedelja]\n",
    "x_sum = [len(ponedeljek), len(torek), len(sreda), len(cetrtek), len(petek), len(sobota), len(nedelja)]\n",
    "\n",
    "print(\"Ponedeljek\", avg_ponedeljek, len(ponedeljek))\n",
    "print(\"Torek\", avg_torek, len(torek))\n",
    "print(\"Sreda\", avg_sreda, len(sreda))\n",
    "print(\"Cetrtek\", avg_cetrtek, len(cetrtek))\n",
    "print(\"Petek\", avg_petek, len(petek))\n",
    "print(\"Sobota\", avg_sobota, len(sobota))\n",
    "print(\"Nedelja\", avg_nedelja, len(nedelja))\n",
    "\n",
    "\n",
    "figure, axis = plt.subplots(1, 2, figsize=(13, 4))\n",
    "  \n",
    "axis[0].bar(labels, x_povp)\n",
    "axis[0].set_title(\"Povprečno popitega na dan\")\n",
    "axis[0].set_xlabel(\"Avg\")\n",
    "  \n",
    "axis[1].bar(labels, x_sum)\n",
    "axis[1].set_title(\"Število nesreč na dan\")\n",
    "axis[1].set_xlabel(\"Sum\")\n",
    "\n",
    "plt.show()"
   ]
  },
  {
   "cell_type": "markdown",
   "id": "b6ccabfe",
   "metadata": {},
   "source": [
    "Vidi se da skozi teden ljude manj pijejo, v petek je manjši skok(ljudem se verjetno mudi domov) in potem še večji za čez vikend. Čez vikend se vidi upad količine nesreč, verjetno, ker so ljudje bolj doma, skozi teden se pa vozijo v in iz službe."
   ]
  },
  {
   "cell_type": "markdown",
   "id": "f66b8b16",
   "metadata": {},
   "source": [
    "# Količina popitega po dela prostih praznikih"
   ]
  },
  {
   "cell_type": "code",
   "execution_count": 12,
   "id": "e684ed3c",
   "metadata": {},
   "outputs": [
    {
     "data": {
      "image/png": "[encoded data removed]",
      "text/plain": [
       "<Figure size 2880x360 with 1 Axes>"
      ]
     },
     "metadata": {
      "needs_background": "light"
     },
     "output_type": "display_data"
    }
   ],
   "source": [
    "sorted_podatki19 = podatki19[np.argsort(podatki19[:, 7])]\n",
    "\n",
    "sorted_podatki19_dict = dict()\n",
    "for row in sorted_podatki19:\n",
    "    datum = row[4]\n",
    "    \n",
    "    if datum not in sorted_podatki19_dict:\n",
    "        rez = sorted_podatki19[sorted_podatki19[:, 4] == datum, 1]\n",
    "        sorted_podatki19_dict[datum] = sum(rez.astype(float)) / len(rez)\n",
    "        \n",
    "labels = list(sorted_podatki19_dict.keys())\n",
    "x = list(sorted_podatki19_dict.values())\n",
    "\n",
    "dela_prosti_dnevi2019 = [\"01.01.2019\", \"02.01.2019\", \"08.02.2019\", \"21.04.2019\", \"22.04.2019\", \"27.04.2019\", \n",
    "                     \"01.05.2019\", \"02.05.2019\", \"09.06.2019\", \"25.06.2019\", \"15.08.2019\", \"31.10.2019\",\n",
    "                    \"01.11.2019\", \"25.12.2019\", \"26.12.2019\"]\n",
    "\n",
    "plt.figure(figsize=(40, 5))\n",
    "plt.subplot(1, 2, 1)\n",
    "plt.bar(labels, x)\n",
    "plt.xlabel(\"Dnevi\")\n",
    "\n",
    "for d in dela_prosti_dnevi2019:\n",
    "    plt.axvline(x=d, color='r', label=d)"
   ]
  },
  {
   "cell_type": "code",
   "execution_count": 13,
   "id": "ff5728ef",
   "metadata": {
    "scrolled": true
   },
   "outputs": [
    {
     "name": "stdout",
     "output_type": "stream",
     "text": [
      "02.01.2019 0.03125\n",
      "03.01.2019 0.00676923076923077\n",
      "Razlika: -0.02448076923076923\n",
      "----------------\n",
      "08.02.2019 0.06426229508196721\n",
      "09.02.2019 0.026515151515151516\n",
      "Razlika: -0.03774714356681569\n",
      "----------------\n",
      "21.04.2019 0.09046153846153845\n",
      "22.04.2019 0.026385542168674697\n",
      "Razlika: -0.06407599629286376\n",
      "----------------\n",
      "27.04.2019 0.022794117647058826\n",
      "28.04.2019 0.061290322580645165\n",
      "Razlika: 0.03849620493358634\n",
      "----------------\n",
      "02.05.2019 0.07400000000000001\n",
      "03.05.2019 0.01574074074074074\n",
      "Razlika: -0.058259259259259275\n",
      "----------------\n"
     ]
    }
   ],
   "source": [
    "print(\"02.01.2019\", sorted_podatki19_dict[\"02.01.2019\"])\n",
    "print(\"03.01.2019\", sorted_podatki19_dict[\"03.01.2019\"])\n",
    "print(\"Razlika:\", sorted_podatki19_dict[\"03.01.2019\"] - sorted_podatki19_dict[\"02.01.2019\"])\n",
    "print(\"----------------\")\n",
    "\n",
    "print(\"08.02.2019\", sorted_podatki19_dict[\"08.02.2019\"])\n",
    "print(\"09.02.2019\", sorted_podatki19_dict[\"09.02.2019\"])\n",
    "print(\"Razlika:\", sorted_podatki19_dict[\"09.02.2019\"] - sorted_podatki19_dict[\"08.02.2019\"])\n",
    "print(\"----------------\")\n",
    "\n",
    "print(\"21.04.2019\", sorted_podatki19_dict[\"21.04.2019\"])\n",
    "print(\"22.04.2019\", sorted_podatki19_dict[\"22.04.2019\"])\n",
    "print(\"Razlika:\", sorted_podatki19_dict[\"22.04.2019\"] - sorted_podatki19_dict[\"21.04.2019\"])\n",
    "print(\"----------------\")\n",
    "\n",
    "print(\"27.04.2019\", sorted_podatki19_dict[\"27.04.2019\"])\n",
    "print(\"28.04.2019\", sorted_podatki19_dict[\"28.04.2019\"])\n",
    "print(\"Razlika:\", sorted_podatki19_dict[\"28.04.2019\"] - sorted_podatki19_dict[\"27.04.2019\"])\n",
    "print(\"----------------\")\n",
    "\n",
    "print(\"02.05.2019\", sorted_podatki19_dict[\"02.05.2019\"])\n",
    "print(\"03.05.2019\", sorted_podatki19_dict[\"03.05.2019\"])\n",
    "print(\"Razlika:\", sorted_podatki19_dict[\"03.05.2019\"] - sorted_podatki19_dict[\"02.05.2019\"])\n",
    "print(\"----------------\")"
   ]
  },
  {
   "cell_type": "markdown",
   "id": "e20d16e8",
   "metadata": {},
   "source": [
    "Iz zgornjih rezulatov kaze, da dela prosti prazniki ne vplivajo na vinjenost voznikov. Tezko je reci ali zato, ker\n",
    "praznike prezivijo doma in se ne vozijo ali pa ker ne popijejo vec kot ob drugih dnevih."
   ]
  },
  {
   "cell_type": "markdown",
   "id": "5fcc2b65",
   "metadata": {},
   "source": [
    "# Nesreče po urah"
   ]
  },
  {
   "cell_type": "code",
   "execution_count": 14,
   "id": "6e3b0faa",
   "metadata": {},
   "outputs": [],
   "source": [
    "ura_avg_dict = dict()\n",
    "ura_sum_dict = dict()\n",
    "\n",
    "for ura in range(0, 24):\n",
    "    rez = podatki[podatki[:, 7].astype(int) == ura, 1].astype(float)\n",
    "    ura_avg_dict[ura] = sum(rez) / len(rez)\n",
    "    ura_sum_dict[ura] = len(rez)"
   ]
  },
  {
   "cell_type": "code",
   "execution_count": 15,
   "id": "777b60fb",
   "metadata": {
    "scrolled": false
   },
   "outputs": [
    {
     "data": {
      "image/png": "[encoded data removed]",
      "text/plain": [
       "<Figure size 936x288 with 2 Axes>"
      ]
     },
     "metadata": {
      "needs_background": "light"
     },
     "output_type": "display_data"
    }
   ],
   "source": [
    "ura_avg_dict = dict(sorted(ura_avg_dict.items()))\n",
    "\n",
    "ura_sum_dict = dict(sorted(ura_sum_dict.items()))\n",
    "\n",
    "labelsAvg = list(ura_avg_dict.keys())\n",
    "xAvg = list(ura_avg_dict.values())\n",
    "\n",
    "labelsSum = list(ura_sum_dict.keys())\n",
    "xSum = list(ura_sum_dict.values())\n",
    "\n",
    "figure, axis = plt.subplots(1, 2, figsize=(13, 4))\n",
    "  \n",
    "axis[0].bar(labelsAvg, xAvg)\n",
    "axis[0].set_title(\"Povprečno popitega ob dani uri\")\n",
    "axis[0].set_xlabel(\"Avg\")\n",
    "  \n",
    "axis[1].bar(labelsSum, xSum)\n",
    "axis[1].set_title(\"Število nesreč ob dani uri\")\n",
    "axis[1].set_xlabel(\"Sum\")\n",
    "\n",
    "plt.show()"
   ]
  },
  {
   "cell_type": "markdown",
   "id": "32c62c74",
   "metadata": {},
   "source": [
    "Kot se vidi iz spodnjih grafov se kolicinsko zgodi vec nesrec podnevi, vendar ponoci so vozniki bolj vinjeni. Grafa sta si skoraj inverzna."
   ]
  },
  {
   "cell_type": "markdown",
   "id": "bf922b0e",
   "metadata": {},
   "source": [
    "# Moški vs ženske"
   ]
  },
  {
   "cell_type": "code",
   "execution_count": 16,
   "id": "d414dc95",
   "metadata": {},
   "outputs": [
    {
     "data": {
      "text/plain": [
       "0.6853913074114245"
      ]
     },
     "execution_count": 16,
     "metadata": {},
     "output_type": "execute_result"
    }
   ],
   "source": [
    "nesrece_moski = podatki[podatki[:, 5] == \"MOŠKI\"]\n",
    "len(nesrece_moski) / len(podatki)"
   ]
  },
  {
   "cell_type": "markdown",
   "id": "fa2b441a",
   "metadata": {},
   "source": [
    "Moški so odgovorni za približno 68% nesreč. To se bo tudi videlo v spodnjem razdelku."
   ]
  },
  {
   "cell_type": "markdown",
   "id": "6221e566",
   "metadata": {},
   "source": [
    "# Skupna povprečna vinjenost"
   ]
  },
  {
   "cell_type": "code",
   "execution_count": 17,
   "id": "90726907",
   "metadata": {},
   "outputs": [
    {
     "data": {
      "text/plain": [
       "0.03337670148701701"
      ]
     },
     "execution_count": 17,
     "metadata": {},
     "output_type": "execute_result"
    }
   ],
   "source": [
    "sum(podatki[:, 1].astype(float)) / len(podatki)"
   ]
  },
  {
   "cell_type": "markdown",
   "id": "4ee78896",
   "metadata": {},
   "source": [
    "# Nesreče glede na starostne skupine"
   ]
  },
  {
   "cell_type": "code",
   "execution_count": 18,
   "id": "c5bd9c57",
   "metadata": {},
   "outputs": [
    {
     "name": "stdout",
     "output_type": "stream",
     "text": [
      "Mladi\n",
      "Število nesreč: 63600\n",
      "Povprečna vinjenost: 0.029783647798742083\n",
      "Delež moških: 0.6761320754716981\n",
      "Delež nesreč: 0.16005113583459368\n",
      "--------------------\n",
      "Srednji\n",
      "Število nesreč: 286478\n",
      "Povprečna vinjenost: 0.03662801332039529\n",
      "Delež moških: 0.6864959962021516\n",
      "Delež nesreč: 0.7209297058431248\n",
      "--------------------\n",
      "Stari\n",
      "Število nesreč: 39377\n",
      "Povprecna vinjenost: 0.022012088274881218\n",
      "Delež moških: 0.7120908144348224\n",
      "Delež nesreč: 0.09909329521633327\n",
      "--------------------\n",
      "Drugo\n",
      "Število nesreč: 7918\n",
      "Povprečna vinjenost: 0.0011202323819146248\n",
      "Delež moških: 0.5870169234655216\n",
      "Delež nesreč: 0.019925863105948315\n",
      "--------------------\n"
     ]
    }
   ],
   "source": [
    "mladi = podatki[podatki[:, 10] == \"1\"]\n",
    "odrasli = podatki[podatki[:, 10] == \"2\"]\n",
    "starejsi = podatki[podatki[:, 10] == \"3\"]\n",
    "drugo = podatki[podatki[:, 10] == \"-1\"]\n",
    "\n",
    "mladi_avg_vinj = sum(mladi[:, 1].astype(float)) / len(mladi)\n",
    "odrasli_avg_vinj = sum(odrasli[:, 1].astype(float)) / len(odrasli)\n",
    "starejsi_avg_vinj = sum(starejsi[:, 1].astype(float)) / len(starejsi)\n",
    "drugo_avg_vinj = sum(drugo[:, 1].astype(float)) / len(drugo)\n",
    "\n",
    "mladi_moski = len(mladi[mladi[:, 5] == \"MOŠKI\"])\n",
    "odrasli_moski = len(odrasli[odrasli[:, 5] == \"MOŠKI\"])\n",
    "starejsi_moski = len(starejsi[starejsi[:, 5] == \"MOŠKI\"])\n",
    "drugo_moski = len(drugo[drugo[:, 5] == \"MOŠKI\"])\n",
    "\n",
    "print(\"Mladi\")\n",
    "print(\"Število nesreč:\", len(mladi))\n",
    "print(\"Povprečna vinjenost:\", mladi_avg_vinj)\n",
    "print(\"Delež moških:\", mladi_moski / len(mladi))\n",
    "print(\"Delež nesreč:\", len(mladi) / len(podatki))\n",
    "print(\"--------------------\")\n",
    "\n",
    "print(\"Srednji\")\n",
    "print(\"Število nesreč:\", len(odrasli))\n",
    "print(\"Povprečna vinjenost:\", odrasli_avg_vinj)\n",
    "print(\"Delež moških:\", odrasli_moski / len(odrasli))\n",
    "print(\"Delež nesreč:\", len(odrasli) / len(podatki))\n",
    "print(\"--------------------\")\n",
    "\n",
    "print(\"Stari\")\n",
    "print(\"Število nesreč:\", len(starejsi))\n",
    "print(\"Povprecna vinjenost:\", starejsi_avg_vinj)\n",
    "print(\"Delež moških:\", starejsi_moski / len(starejsi))\n",
    "print(\"Delež nesreč:\", len(starejsi) / len(podatki))\n",
    "print(\"--------------------\")\n",
    "\n",
    "print(\"Drugo\")\n",
    "print(\"Število nesreč:\", len(drugo))\n",
    "print(\"Povprečna vinjenost:\", drugo_avg_vinj)\n",
    "print(\"Delež moških:\", drugo_moski / len(drugo))\n",
    "print(\"Delež nesreč:\", len(drugo) / len(podatki))\n",
    "print(\"--------------------\")"
   ]
  },
  {
   "cell_type": "code",
   "execution_count": 19,
   "id": "609998c3",
   "metadata": {
    "scrolled": false
   },
   "outputs": [
    {
     "data": {
      "image/png": "[encoded data removed]",
      "text/plain": [
       "<Figure size 1080x288 with 1 Axes>"
      ]
     },
     "metadata": {
      "needs_background": "light"
     },
     "output_type": "display_data"
    }
   ],
   "source": [
    "labels = [\"Mladi\", \"Odrasli\", \"Starejsi\", \"Drugo\"]\n",
    "x = [len(mladi), len(odrasli), len(starejsi), len(drugo)]\n",
    "\n",
    "plt.figure(figsize=(15,4))\n",
    "plt.subplot(1, 2, 1)\n",
    "plt.bar(labels, x)\n",
    "plt.title(\"Porazdelitev števila nesreč po starostnih skupinah\")\n",
    "plt.xlabel(\"Skupina\")\n",
    "plt.show()"
   ]
  },
  {
   "cell_type": "markdown",
   "id": "a4038cd4",
   "metadata": {},
   "source": [
    "Vidi se, da odrasli zagrešijo največ nesreč in so tudi v povprečju najbolj vinjeni. To je verjetno, ker jih ima večina službo in se iz nje vračajo ob časih, kjer so nesreče najbolj pogoste. Za največjo vinjenost pa poskrbijo, ko gredo po službi se kaj popiti in potem šele domov.\n",
    "Pri vseh starostnih skupinah se pa vidi, da moški konstantno napravijo okoli 68% nesreč."
   ]
  },
  {
   "cell_type": "markdown",
   "id": "62ebd4a4",
   "metadata": {},
   "source": [
    "# Letni časi"
   ]
  },
  {
   "cell_type": "code",
   "execution_count": 20,
   "id": "6fe91462",
   "metadata": {},
   "outputs": [
    {
     "name": "stdout",
     "output_type": "stream",
     "text": [
      "Pomlad\n",
      "Število nesreč: 101628\n",
      "Povprečna vinjenost: 0.03305712992482393\n",
      "----------------\n",
      "Poletje\n",
      "Število nesreč: 107014\n",
      "Povprečna vinjenost: 0.03330853906965452\n",
      "----------------\n",
      "Jesen\n",
      "Število nesreč: 100556\n",
      "Povprečna vinjenost: 0.032961931659970585\n",
      "----------------\n",
      "Zima\n",
      "Število nesreč: 88175\n",
      "Povprečna vinjenost: 0.03430076552310759\n"
     ]
    }
   ],
   "source": [
    "pomlad = podatki[podatki[:, 11] == \"1\"]\n",
    "poletje = podatki[podatki[:, 11] == \"2\"]\n",
    "jesen = podatki[podatki[:, 11] == \"3\"]\n",
    "zima = podatki[podatki[:, 11] == \"4\"]\n",
    "\n",
    "print(\"Pomlad\")\n",
    "print(\"Število nesreč:\", len(pomlad))\n",
    "print(\"Povprečna vinjenost:\", sum(pomlad[:, 1].astype(float)) / len(pomlad))\n",
    "print(\"----------------\")\n",
    "\n",
    "print(\"Poletje\")\n",
    "print(\"Število nesreč:\", len(poletje))\n",
    "print(\"Povprečna vinjenost:\", sum(poletje[:, 1].astype(float)) / len(poletje))\n",
    "print(\"----------------\")\n",
    "\n",
    "print(\"Jesen\")\n",
    "print(\"Število nesreč:\", len(jesen))\n",
    "print(\"Povprečna vinjenost:\", sum(jesen[:, 1].astype(float)) / len(jesen))\n",
    "print(\"----------------\")\n",
    "\n",
    "print(\"Zima\")\n",
    "print(\"Število nesreč:\", len(zima))\n",
    "print(\"Povprečna vinjenost:\", sum(zima[:, 1].astype(float)) / len(zima))"
   ]
  },
  {
   "cell_type": "code",
   "execution_count": 21,
   "id": "55f198eb",
   "metadata": {},
   "outputs": [
    {
     "data": {
      "image/png": "[encoded data removed]",
      "text/plain": [
       "<Figure size 1080x288 with 1 Axes>"
      ]
     },
     "metadata": {
      "needs_background": "light"
     },
     "output_type": "display_data"
    }
   ],
   "source": [
    "labels = [\"Pomlad\", \"Poletje\", \"Jesen\", \"Zima\"]\n",
    "x = [len(pomlad), len(poletje), len(jesen), len(zima)]\n",
    "\n",
    "plt.figure(figsize=(15,4))\n",
    "plt.subplot(1, 2, 1)\n",
    "plt.bar(labels, x)\n",
    "plt.title(\"Število nesreč po letnih časih\")\n",
    "plt.xlabel(\"Letni čas\")\n",
    "plt.show()"
   ]
  },
  {
   "cell_type": "markdown",
   "id": "587b0ea5",
   "metadata": {},
   "source": [
    "Pomladi, poleti in jeseni si je število nesreč podobno, pozimi se vidi upadec števila nesreč. Povprečna vinjenost je v vseh letnih časih približno ista, kar kaže, da letni časi ne vplivajo toliko na količino popitega."
   ]
  },
  {
   "cell_type": "markdown",
   "id": "2ead5a54",
   "metadata": {},
   "source": [
    "# Zaključek\n",
    "Po najinem mnenju je težko sklepati o alkoholiziranosti splošne populacije saj ne vemo koliko ljudi pije doma ali pa se v enem avtu vozi več vinjenih oseb. Zna biti pa dober indikator za navade splošne populacije, v smislu ob katerih časih največ pijejo. Pri preverjanju dela prostih praznikov nisva našla nekega prirastka vinjenosti ali števila nesreč. Pri preverjanju letnih časov se vinjenost nič ne dvigne in število nesreč je za pomlad, poletje, jesen približno isto, vendar se vidi upad v zimskem času, verjetno, ker se ljudje zadrzavajo bolj doma na toplem kot da bi šli ven na pijačo ob neugodnih vremenskih razmerah."
   ]
  }
 ],
 "metadata": {
  "kernelspec": {
   "display_name": "Python 3 (ipykernel)",
   "language": "python",
   "name": "python3"
  },
  "language_info": {
   "codemirror_mode": {
    "name": "ipython",
    "version": 3
   },
   "file_extension": ".py",
   "mimetype": "text/x-python",
   "name": "python",
   "nbconvert_exporter": "python",
   "pygments_lexer": "ipython3",
   "version": "3.7.13"
  }
 },
 "nbformat": 4,
 "nbformat_minor": 5
}
