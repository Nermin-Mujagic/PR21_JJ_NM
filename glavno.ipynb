{
 "cells": [
  {
   "cell_type": "code",
   "execution_count": 95,
   "id": "1771c2e2",
   "metadata": {},
   "outputs": [],
   "source": [
    "from csv import DictReader\n",
    "import numpy as np\n",
    "import chardet\n",
    "import matplotlib\n",
    "from scipy import stats\n",
    "import collections\n",
    "from datetime import datetime\n",
    "\n",
    "import matplotlib.pyplot as plt"
   ]
  },
  {
   "cell_type": "code",
   "execution_count": 97,
   "id": "41843f74",
   "metadata": {},
   "outputs": [],
   "source": [
    "# Vnos podatkov\n",
    "reader = DictReader(open('data/pn2019.csv','rt', encoding='Windows-1252'),delimiter=';')\n",
    "podatki19 = np.array([[row['KlasifikacijaNesrece'], row['VrednostAlkotesta'], row['VozniskiStazVLetih'], row['UraPN'], row['DatumPN']] for row in reader])"
   ]
  },
  {
   "cell_type": "code",
   "execution_count": 100,
   "id": "7de07b50",
   "metadata": {},
   "outputs": [],
   "source": [
    "# popravki podatkov\n",
    "# popravljaje alkotest vrednosti\n",
    "for i in range(len(podatki19)):\n",
    "    podatki19[i][1] = float(podatki19[i][1].replace(',','.'))\n",
    "    \n",
    "# dobimo samo uro\n",
    "ure = [[ura.split(\".\")[0]] for ura in podatki19[:, 3]]\n",
    "podatki19 = np.append(podatki19, ure, axis=1)\n",
    "\n",
    "datetimes = []\n",
    "for row in podatki19:\n",
    "    ura, minute = row[3].split(\".\")\n",
    "    dan, mesec, leto = row[4].split(\".\")\n",
    "    \n",
    "    datetimes.append([datetime(int(leto), int(mesec), int(dan), int(ura), int(minute))])\n",
    "    \n",
    "podatki19 = np.append(podatki19, datetimes, axis=1)\n",
    "    \n",
    "\n",
    "# dodajanje dnevov iz datuma\n",
    "dnevi = [[datetime.strptime(d, \"%d.%m.%Y\").strftime('%A')] for d in podatki19[:, 4]]\n",
    "\n",
    "podatki19 = np.append(podatki19, dnevi, axis=1)"
   ]
  },
  {
   "cell_type": "code",
   "execution_count": 101,
   "id": "5cd99562",
   "metadata": {},
   "outputs": [
    {
     "data": {
      "text/plain": [
       "array([['Z LAŽJO TELESNO POŠKODBO', 0.18, '0', ..., '13',\n",
       "        datetime.datetime(2019, 1, 8, 13, 15), 'Tuesday'],\n",
       "       ['Z LAŽJO TELESNO POŠKODBO', 0.0, '0', ..., '13',\n",
       "        datetime.datetime(2019, 1, 8, 13, 15), 'Tuesday'],\n",
       "       ['Z LAŽJO TELESNO POŠKODBO', 0.2, '29', ..., '05',\n",
       "        datetime.datetime(2019, 1, 2, 5, 55), 'Wednesday'],\n",
       "       ...,\n",
       "       ['Z LAŽJO TELESNO POŠKODBO', 0.0, '03', ..., '09',\n",
       "        datetime.datetime(2019, 8, 25, 9, 0), 'Sunday'],\n",
       "       ['Z LAŽJO TELESNO POŠKODBO', 0.0, '0', ..., '09',\n",
       "        datetime.datetime(2019, 8, 25, 9, 0), 'Sunday'],\n",
       "       ['Z LAŽJO TELESNO POŠKODBO', 0.0, '37', ..., '09',\n",
       "        datetime.datetime(2019, 8, 25, 9, 0), 'Sunday']], dtype=object)"
      ]
     },
     "execution_count": 101,
     "metadata": {},
     "output_type": "execute_result"
    }
   ],
   "source": [
    "podatki19"
   ]
  },
  {
   "cell_type": "code",
   "execution_count": 83,
   "id": "906bc781",
   "metadata": {
    "scrolled": true
   },
   "outputs": [
    {
     "data": {
      "image/png": "[encoded data removed]",
      "text/plain": [
       "<Figure size 432x288 with 1 Axes>"
      ]
     },
     "metadata": {},
     "output_type": "display_data"
    }
   ],
   "source": [
    "# Delez voznikov pod, nad dovoljeno mejo\n",
    "alkotest = np.array([float(value) for value in podatki19[:,1]])\n",
    "meja = 0.24\n",
    "\n",
    "podMeja = alkotest[alkotest[:] < meja]\n",
    "nadMeja = alkotest[alkotest[:] >= meja]\n",
    "\n",
    "# Delež voznikov, ki so napihali nad dovoljeno mejo je le 4.4%\n",
    "len(nadMeja) / len(alkotest)\n",
    "\n",
    "labels = 'pod mejo', 'nad mejo'\n",
    "sizes = [len(podMeja), len(nadMeja)]\n",
    "\n",
    "plt.title(\"Delež voznikov nad in pod dovoljeno mejo\")\n",
    "plt.pie(sizes, labels=labels, autopct='%1.1f%%', shadow=True, explode=(0.4,0))\n",
    "plt.show()"
   ]
  },
  {
   "cell_type": "code",
   "execution_count": 84,
   "id": "4becfa4d",
   "metadata": {},
   "outputs": [],
   "source": [
    "# Nesrece ponoci 23h -> 4h\n",
    "nesrece_ponoci = podatki19[(podatki19[:, 3].astype(int) < 5) | (podatki19[:, 3].astype(int) > 22)]\n",
    "#nesrece_podnevi = podatki19[(podatki19[:, 3].astype(int) >= 5) | (podatki19[:, 3].astype(int) <= 22)]"
   ]
  },
  {
   "cell_type": "code",
   "execution_count": 85,
   "id": "cf553f80",
   "metadata": {},
   "outputs": [
    {
     "data": {
      "text/plain": [
       "0.05114018910453441"
      ]
     },
     "execution_count": 85,
     "metadata": {},
     "output_type": "execute_result"
    }
   ],
   "source": [
    "# Delez nesrec ponoci\n",
    "len(nesrece_ponoci) / len(podatki19)"
   ]
  },
  {
   "cell_type": "code",
   "execution_count": 86,
   "id": "24441002",
   "metadata": {},
   "outputs": [
    {
     "data": {
      "text/plain": [
       "0.8534630795649685"
      ]
     },
     "execution_count": 86,
     "metadata": {},
     "output_type": "execute_result"
    }
   ],
   "source": [
    "# Delez prekomerno vinjenih ponoci\n",
    "alkotestPonoci = np.array([float(value) for value in podatki19[:,1]])\n",
    "nadMejaPonoci = alkotestPonoci[alkotestPonoci[:] >= meja]\n",
    "len(nadMejaPonoci) / len(nesrece_ponoci)\n",
    "# vecina nesrece ponoci nad mejo"
   ]
  },
  {
   "cell_type": "code",
   "execution_count": 55,
   "id": "33c42473",
   "metadata": {},
   "outputs": [
    {
     "data": {
      "text/plain": [
       "0.03131494979655157"
      ]
     },
     "execution_count": 55,
     "metadata": {},
     "output_type": "execute_result"
    }
   ],
   "source": [
    "# Povprecna vinjenosti pred in po koroni\n",
    "sum(alkotest) / len(alkotest)"
   ]
  },
  {
   "cell_type": "code",
   "execution_count": 87,
   "id": "b7c2772d",
   "metadata": {},
   "outputs": [
    {
     "name": "stdout",
     "output_type": "stream",
     "text": [
      "Ponedeljek 0.02176056338028169\n",
      "Torek 0.022250409165302795\n",
      "Sreda 0.02541468064823643\n",
      "Cetrtek 0.02175289575289576\n",
      "Petek 0.034535616217089345\n",
      "Sobota 0.05348583877995643\n",
      "Nedelja 0.05346050870147257\n"
     ]
    },
    {
     "data": {
      "text/plain": [
       "([0, 1, 2, 3, 4, 5, 6],\n",
       " [Text(0, 0, ''),\n",
       "  Text(0, 0, ''),\n",
       "  Text(0, 0, ''),\n",
       "  Text(0, 0, ''),\n",
       "  Text(0, 0, ''),\n",
       "  Text(0, 0, ''),\n",
       "  Text(0, 0, '')])"
      ]
     },
     "execution_count": 87,
     "metadata": {},
     "output_type": "execute_result"
    },
    {
     "data": {
      "image/png": "[encoded data removed]",
      "text/plain": [
       "<Figure size 648x216 with 1 Axes>"
      ]
     },
     "metadata": {
      "needs_background": "light"
     },
     "output_type": "display_data"
    }
   ],
   "source": [
    "# Kolicina popitega skozi teden\n",
    "labels = \"Ponedeljek\", \"Torek\", \"Sreda\", \"Cetrtek\", \"Petek\", \"Sobota\", \"Nedelja\"\n",
    "\n",
    "ponedeljek = podatki19[podatki19[:, 5] == \"Monday\", 1]\n",
    "torek = podatki19[podatki19[:, 5] == \"Tuesday\", 1]\n",
    "sreda = podatki19[podatki19[:, 5] == \"Wednesday\", 1]\n",
    "cetrtek = podatki19[podatki19[:, 5] == \"Thursday\", 1]\n",
    "petek = podatki19[podatki19[:, 5] == \"Friday\", 1]\n",
    "sobota = podatki19[podatki19[:, 5] == \"Saturday\", 1]\n",
    "nedelja = podatki19[podatki19[:, 5] == \"Sunday\", 1]\n",
    "\n",
    "avg_ponedeljek = sum(ponedeljek.astype(float)) / len(ponedeljek)\n",
    "avg_torek = sum(torek.astype(float)) / len(torek)\n",
    "avg_sreda = sum(sreda.astype(float)) / len(sreda)\n",
    "avg_cetrtek = sum(cetrtek.astype(float)) / len(cetrtek)\n",
    "avg_petek = sum(petek.astype(float)) / len(petek)\n",
    "avg_sobota = sum(sobota.astype(float)) / len(sobota)\n",
    "avg_nedelja = sum(nedelja.astype(float)) / len(nedelja)\n",
    "\n",
    "x = [avg_ponedeljek, avg_torek, avg_sreda, avg_cetrtek, avg_petek, avg_sobota, avg_nedelja]\n",
    "\n",
    "print(\"Ponedeljek\", avg_ponedeljek)\n",
    "print(\"Torek\", avg_torek)\n",
    "print(\"Sreda\", avg_sreda)\n",
    "print(\"Cetrtek\", avg_cetrtek)\n",
    "print(\"Petek\", avg_petek)\n",
    "print(\"Sobota\", avg_sobota)\n",
    "print(\"Nedelja\", avg_nedelja)\n",
    "\n",
    "plt.figure(figsize=(9, 3))\n",
    "plt.subplot(1, 2, 1)\n",
    "plt.bar(labels, x)\n",
    "plt.xlabel(\"Dan\")\n",
    "plt.xticks(rotation=90)"
   ]
  },
  {
   "cell_type": "code",
   "execution_count": 124,
   "id": "e684ed3c",
   "metadata": {},
   "outputs": [
    {
     "data": {
      "image/png": "[encoded data removed]",
      "text/plain": [
       "<Figure size 2880x360 with 1 Axes>"
      ]
     },
     "metadata": {
      "needs_background": "light"
     },
     "output_type": "display_data"
    }
   ],
   "source": [
    "# Kolicina popitega po dela prostem prazniku\n",
    "sorted_podatki19 = podatki19[np.argsort(podatki19[:, 7])]\n",
    "\n",
    "sorted_podatki19_dict = dict()\n",
    "for row in sorted_podatki19:\n",
    "    datum = row[4]\n",
    "    \n",
    "    if datum not in sorted_podatki19_dict:\n",
    "        rez = sorted_podatki19[sorted_podatki19[:, 4] == datum, 1]\n",
    "        sorted_podatki19_dict[datum] = sum(rez.astype(float)) / len(rez)\n",
    "        \n",
    "labels = list(sorted_podatki19_dict.keys())\n",
    "x = list(sorted_podatki19_dict.values())\n",
    "\n",
    "dela_prosti_dnevi2019 = [\"01.01.2019\", \"02.01.2019\", \"08.02.2019\", \"21.04.2019\", \"22.04.2019\", \"27.04.2019\", \n",
    "                     \"01.05.2019\", \"02.05.2019\", \"09.06.2019\", \"25.06.2019\", \"15.08.2019\", \"31.10.2019\",\n",
    "                    \"01.11.2019\", \"25.12.2019\", \"26.12.2019\"]\n",
    "\n",
    "plt.figure(figsize=(40, 5))\n",
    "plt.subplot(1, 2, 1)\n",
    "plt.bar(labels, x)\n",
    "plt.xlabel(\"Dnevi\")\n",
    "\n",
    "for d in dela_prosti_dnevi2019:\n",
    "    plt.axvline(x=d, color='r', label=d)"
   ]
  },
  {
   "cell_type": "code",
   "execution_count": 135,
   "id": "ff5728ef",
   "metadata": {},
   "outputs": [
    {
     "name": "stdout",
     "output_type": "stream",
     "text": [
      "02.01.2019 0.03125\n",
      "03.01.2019 0.00676923076923077\n",
      "Razlika: -0.02448076923076923\n",
      "----------------\n",
      "08.02.2019 0.06426229508196721\n",
      "09.02.2019 0.026515151515151516\n",
      "Razlika: -0.03774714356681569\n",
      "----------------\n",
      "21.04.2019 0.09046153846153845\n",
      "22.04.2019 0.026385542168674697\n",
      "Razlika: -0.06407599629286376\n",
      "----------------\n",
      "27.04.2019 0.022794117647058826\n",
      "28.04.2019 0.061290322580645165\n",
      "Razlika: 0.03849620493358634\n",
      "----------------\n",
      "02.05.2019 0.07400000000000001\n",
      "03.05.2019 0.01574074074074074\n",
      "Razlika: -0.058259259259259275\n",
      "----------------\n"
     ]
    }
   ],
   "source": [
    "print(\"02.01.2019\", sorted_podatki19_dict[\"02.01.2019\"])\n",
    "print(\"03.01.2019\", sorted_podatki19_dict[\"03.01.2019\"])\n",
    "print(\"Razlika:\", sorted_podatki19_dict[\"03.01.2019\"] - sorted_podatki19_dict[\"02.01.2019\"])\n",
    "print(\"----------------\")\n",
    "\n",
    "print(\"08.02.2019\", sorted_podatki19_dict[\"08.02.2019\"])\n",
    "print(\"09.02.2019\", sorted_podatki19_dict[\"09.02.2019\"])\n",
    "print(\"Razlika:\", sorted_podatki19_dict[\"09.02.2019\"] - sorted_podatki19_dict[\"08.02.2019\"])\n",
    "print(\"----------------\")\n",
    "\n",
    "print(\"21.04.2019\", sorted_podatki19_dict[\"21.04.2019\"])\n",
    "print(\"22.04.2019\", sorted_podatki19_dict[\"22.04.2019\"])\n",
    "print(\"Razlika:\", sorted_podatki19_dict[\"22.04.2019\"] - sorted_podatki19_dict[\"21.04.2019\"])\n",
    "print(\"----------------\")\n",
    "\n",
    "print(\"27.04.2019\", sorted_podatki19_dict[\"27.04.2019\"])\n",
    "print(\"28.04.2019\", sorted_podatki19_dict[\"28.04.2019\"])\n",
    "print(\"Razlika:\", sorted_podatki19_dict[\"28.04.2019\"] - sorted_podatki19_dict[\"27.04.2019\"])\n",
    "print(\"----------------\")\n",
    "\n",
    "print(\"02.05.2019\", sorted_podatki19_dict[\"02.05.2019\"])\n",
    "print(\"03.05.2019\", sorted_podatki19_dict[\"03.05.2019\"])\n",
    "print(\"Razlika:\", sorted_podatki19_dict[\"03.05.2019\"] - sorted_podatki19_dict[\"02.05.2019\"])\n",
    "print(\"----------------\")"
   ]
  },
  {
   "cell_type": "code",
   "execution_count": 151,
   "id": "1bf2d417",
   "metadata": {},
   "outputs": [],
   "source": [
    "# Nesrece po urah\n",
    "podatki19[:, 5]\n",
    "ura_avg_dict = dict()\n",
    "ura_sum_dict = dict()\n",
    "\n",
    "for row in podatki19:\n",
    "    ura = row[5]\n",
    "    rez = podatki19[podatki19[:, 5] == ura, 1].astype(float)\n",
    "    if ura not in ura_avg_dict:\n",
    "        ura_avg_dict[ura] = sum(rez) / len(rez)\n",
    "        ura_sum_dict[ura] = len(rez)"
   ]
  },
  {
   "cell_type": "code",
   "execution_count": 168,
   "id": "777b60fb",
   "metadata": {},
   "outputs": [
    {
     "data": {
      "image/png": "[encoded data removed]",
      "text/plain": [
       "<Figure size 936x288 with 2 Axes>"
      ]
     },
     "metadata": {
      "needs_background": "light"
     },
     "output_type": "display_data"
    }
   ],
   "source": [
    "ura_avg_dict = dict(sorted(ura_avg_dict.items()))\n",
    "\n",
    "ura_sum_dict = dict(sorted(ura_sum_dict.items()))\n",
    "\n",
    "labelsAvg = list(ura_avg_dict.keys())\n",
    "xAvg = list(ura_avg_dict.values())\n",
    "\n",
    "labelsSum = list(ura_sum_dict.keys())\n",
    "xSum = list(ura_sum_dict.values())\n",
    "\n",
    "figure, axis = plt.subplots(1, 2, figsize=(13, 4))\n",
    "  \n",
    "axis[0].bar(labelsAvg, xAvg)\n",
    "axis[0].set_title(\"Povprecno popitega na dano uro\")\n",
    "axis[0].set_xlabel(\"Avg\")\n",
    "  \n",
    "axis[1].bar(labelsSum, xSum)\n",
    "axis[1].set_title(\"Stevilo nesrec ob dani uri\")\n",
    "axis[1].set_xlabel(\"Sum\")\n",
    "\n",
    "plt.show()"
   ]
  }
 ],
 "metadata": {
  "kernelspec": {
   "display_name": "Python 3 (ipykernel)",
   "language": "python",
   "name": "python3"
  },
  "language_info": {
   "codemirror_mode": {
    "name": "ipython",
    "version": 3
   },
   "file_extension": ".py",
   "mimetype": "text/x-python",
   "name": "python",
   "nbconvert_exporter": "python",
   "pygments_lexer": "ipython3",
   "version": "3.7.13"
  }
 },
 "nbformat": 4,
 "nbformat_minor": 5
}
