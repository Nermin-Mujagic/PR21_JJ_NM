{
 "cells": [
  {
   "cell_type": "markdown",
   "id": "9658ef3b",
   "metadata": {},
   "source": [
    "# Analiza vzrokov prometnih nesreč v Sloveniji\n",
    "S to analizo sva želela pokazati glavne razloge/faktorje za prometne nesreče v Sloveniji.\n",
    "\n",
    "## Člana\n",
    "* Nermin Mujagić\n",
    "* Jaša Jovan\n",
    "\n",
    "## Opis podatkov\n",
    "Za projektno nalogo sva zbrala podatke na spletni strani podatki.gov.si, kjer sva vzela [podatke o prometnih nesrečah od leta 2009 pa do leta 2019](https://podatki.gov.si/dataset/mnzpprometne-nesrece-od-leta-2009-dalje). Datoteke so med seboj ločene po letih.\n",
    "\n",
    "## Cilji\n",
    "- starost udeleženca / vozniški staž\n",
    "- delež alkohola v krvi\n",
    "- vpliv dela prostih praznikov\n",
    "- vpliv letnih casov\n",
    "- starostne skupine\n",
    "\n",
    "## Rezultati"
   ]
  },
  {
   "cell_type": "markdown",
   "id": "3e325438",
   "metadata": {},
   "source": [
    "# Imports"
   ]
  },
  {
   "cell_type": "code",
   "execution_count": 26,
   "id": "1771c2e2",
   "metadata": {},
   "outputs": [],
   "source": [
    "from csv import DictReader\n",
    "import numpy as np\n",
    "import chardet\n",
    "import matplotlib\n",
    "from scipy import stats\n",
    "import collections\n",
    "from datetime import datetime\n",
    "\n",
    "import matplotlib.pyplot as plt"
   ]
  },
  {
   "cell_type": "markdown",
   "id": "1a10f470",
   "metadata": {},
   "source": [
    "# Vnos podatkov"
   ]
  },
  {
   "cell_type": "code",
   "execution_count": 53,
   "id": "41843f74",
   "metadata": {},
   "outputs": [],
   "source": [
    "reader = DictReader(open('data/pn2019.csv','rt', encoding='Windows-1252'),delimiter=';')\n",
    "podatki19 = np.array([[row['KlasifikacijaNesrece'], row['VrednostAlkotesta'], row['VozniskiStazVLetih'], row['UraPN'], row['DatumPN'], row['Spol'], row['Starost']] for row in reader])"
   ]
  },
  {
   "cell_type": "markdown",
   "id": "8137aecb",
   "metadata": {},
   "source": [
    "# Popravki, dodajanje"
   ]
  },
  {
   "cell_type": "code",
   "execution_count": 55,
   "id": "7de07b50",
   "metadata": {},
   "outputs": [],
   "source": [
    "# popravljaje alkotest vrednosti\n",
    "for i in range(len(podatki19)):\n",
    "    podatki19[i][1] = float(podatki19[i][1].replace(',','.'))\n",
    "    \n",
    "# dobimo samo uro\n",
    "ure = [[ura.split(\".\")[0]] for ura in podatki19[:, 3]]\n",
    "podatki19 = np.append(podatki19, ure, axis=1)\n",
    "\n",
    "# dodajanje datetimes\n",
    "datetimes = []\n",
    "for row in podatki19:\n",
    "    ura, minute = row[3].split(\".\")\n",
    "    dan, mesec, leto = row[4].split(\".\")\n",
    "    \n",
    "    datetimes.append([datetime(int(leto), int(mesec), int(dan), int(ura), int(minute))])\n",
    "    \n",
    "podatki19 = np.append(podatki19, datetimes, axis=1)\n",
    "    \n",
    "\n",
    "# dodajanje dnevov iz datuma\n",
    "dnevi = [[datetime.strptime(d, \"%d.%m.%Y\").strftime('%A')] for d in podatki19[:, 4]]\n",
    "\n",
    "podatki19 = np.append(podatki19, dnevi, axis=1)\n",
    "\n",
    "# starostne skupine\n",
    "# mladi -> 16-24\n",
    "# odrasli -> 25-64\n",
    "# starejsi -> 64<\n",
    "star_skupine = []\n",
    "for row in podatki19:\n",
    "    starost = int(row[6])\n",
    "    if starost >= 16 and starost <= 24:\n",
    "        star_skupine.append([\"1\"])\n",
    "    elif starost >= 25 and starost <= 64:\n",
    "        star_skupine.append([\"2\"])\n",
    "    elif starost >= 65:\n",
    "        star_skupine.append([\"3\"])\n",
    "    else:\n",
    "        star_skupine.append([\"-1\"])\n",
    "        \n",
    "podatki19 = np.append(podatki19, star_skupine, axis=1)\n",
    "\n",
    "# letni casi\n",
    "letni_casi = []\n",
    "\n",
    "for d in podatki19[:, 8]:\n",
    "    t_leto = d.year\n",
    "    if d >= datetime(t_leto, 3, 21) and d <= datetime(t_leto, 6, 21): # pomlad\n",
    "        letni_casi.append([\"1\"])\n",
    "        \n",
    "    elif d > datetime(t_leto, 6, 21) and d <= datetime(t_leto, 9, 23): # poletje\n",
    "        letni_casi.append([\"2\"])\n",
    "    \n",
    "    elif d > datetime(t_leto, 9, 23) and d <= datetime(t_leto, 12, 21): # jesen\n",
    "        letni_casi.append([\"3\"])\n",
    "    \n",
    "    else: # zima\n",
    "        letni_casi.append([\"4\"])\n",
    "\n",
    "podatki19 = np.append(podatki19, letni_casi, axis=1)"
   ]
  },
  {
   "cell_type": "markdown",
   "id": "cde942d9",
   "metadata": {},
   "source": [
    "# Porazdelitev klasifikacij nesrec"
   ]
  },
  {
   "cell_type": "code",
   "execution_count": 29,
   "id": "f9d54995",
   "metadata": {},
   "outputs": [
    {
     "data": {
      "text/plain": [
       "<BarContainer object of 4 artists>"
      ]
     },
     "execution_count": 29,
     "metadata": {},
     "output_type": "execute_result"
    },
    {
     "data": {
      "image/png": "[encoded data removed]",
      "text/plain": [
       "<Figure size 432x288 with 1 Axes>"
      ]
     },
     "metadata": {
      "needs_background": "light"
     },
     "output_type": "display_data"
    }
   ],
   "source": [
    "vrste = dict()\n",
    "for poskodba in podatki19[:, 0]:\n",
    "    if(poskodba not in vrste):\n",
    "        vrste[poskodba] = 1\n",
    "    else:\n",
    "        vrste[poskodba] += 1\n",
    "\n",
    "xVal = list(vrste.values())\n",
    "yVal = list(vrste.keys())\n",
    "\n",
    "plt.title(\"Porazdelitev klasifikacij nesreče\")\n",
    "plt.xlabel(\"Št. nesreč\")\n",
    "plt.barh(yVal,xVal)"
   ]
  },
  {
   "cell_type": "markdown",
   "id": "f55aa4a4",
   "metadata": {},
   "source": [
    "Največ izidov nesreč je le z materialno škodo, kar je tudi pričakovano, saj je manjša verjetnost poškodbe pri nesrečah, kot je le škoda na avtomobilu ali okolici. Najmanj je srmtnih izidov."
   ]
  },
  {
   "cell_type": "markdown",
   "id": "afc64838",
   "metadata": {},
   "source": [
    "# Delež voznikov pod in nad dovoljeno mejo."
   ]
  },
  {
   "cell_type": "code",
   "execution_count": 30,
   "id": "906bc781",
   "metadata": {
    "scrolled": true
   },
   "outputs": [
    {
     "data": {
      "image/png": "[encoded data removed]",
      "text/plain": [
       "<Figure size 432x288 with 1 Axes>"
      ]
     },
     "metadata": {},
     "output_type": "display_data"
    }
   ],
   "source": [
    "alkotest = np.array([float(value) for value in podatki19[:,1]])\n",
    "meja = 0.24\n",
    "\n",
    "podMeja = alkotest[alkotest[:] < meja]\n",
    "nadMeja = alkotest[alkotest[:] >= meja]\n",
    "\n",
    "# Delež voznikov, ki so napihali nad dovoljeno mejo je le 4.4%\n",
    "len(nadMeja) / len(alkotest)\n",
    "\n",
    "labels = 'pod mejo', 'nad mejo'\n",
    "sizes = [len(podMeja), len(nadMeja)]\n",
    "\n",
    "plt.title(\"Delež voznikov nad in pod dovoljeno mejo\")\n",
    "plt.pie(sizes, labels=labels, autopct='%1.1f%%', shadow=True, explode=(0.4,0))\n",
    "plt.show()"
   ]
  },
  {
   "cell_type": "markdown",
   "id": "bccd9ecd",
   "metadata": {},
   "source": [
    "Najbolj zanimiv podatek za naju je bil, da je le 4.4% voznikov imelo prekomerno vsebino alkohola pri alkotestu (vpihu). Pričakovala sva, da bo to večji delež. Verjetno se bo izkazalo, da bo korelacija precej močna."
   ]
  },
  {
   "cell_type": "markdown",
   "id": "81930e55",
   "metadata": {},
   "source": [
    "# Nesrece vozniski staz"
   ]
  },
  {
   "cell_type": "code",
   "execution_count": 31,
   "id": "6fed2a7a",
   "metadata": {},
   "outputs": [
    {
     "name": "stdout",
     "output_type": "stream",
     "text": [
      "DescribeResult(nobs=34161, minmax=(0, 73), mean=15.719797429817628, variance=241.8832523711421, skewness=0.7504461149901434, kurtosis=-0.4380028243977163)\n"
     ]
    },
    {
     "data": {
      "text/plain": [
       "[<matplotlib.lines.Line2D at 0x7f7e2051ec10>]"
      ]
     },
     "execution_count": 31,
     "metadata": {},
     "output_type": "execute_result"
    },
    {
     "data": {
      "image/png": "[encoded data removed]",
      "text/plain": [
       "<Figure size 432x288 with 1 Axes>"
      ]
     },
     "metadata": {
      "needs_background": "light"
     },
     "output_type": "display_data"
    }
   ],
   "source": [
    "vozniskiStaz = np.array([int(value) for value in podatki19[:,2]])\n",
    "stazNesrece = collections.Counter(vozniskiStaz)\n",
    "\n",
    "print(stats.describe(vozniskiStaz))\n",
    "\n",
    "stazNesrece = collections.OrderedDict(sorted(stazNesrece.items()))\n",
    "\n",
    "keys = list(stazNesrece.keys())\n",
    "values = list(stazNesrece.values())\n",
    "\n",
    "plt.title('Št. nesreč glede na št. let vozniškega staža')\n",
    "plt.ylabel('Št. nesreč')\n",
    "plt.xlabel('Št. let vozniškega staža')\n",
    "plt.plot(keys,values)"
   ]
  },
  {
   "cell_type": "markdown",
   "id": "a1b12f4d",
   "metadata": {},
   "source": [
    "Zelo očitno da je največ nesreč pri vozniškemu stažu do 1 leta. Trend je takšen, da z več leti staža, manjša se št. nesreč. Vredno je tudi omeniti, da seveda ker so podatki od 2009 - 2019, je seveda največ zabeleženo o tistih, ki imajo 10 let staž ali manj. Povprecno stevilo vozniškega staza je 15.7 let."
   ]
  },
  {
   "cell_type": "markdown",
   "id": "455bc574",
   "metadata": {},
   "source": [
    "# Nesreče ponoči\n",
    "### Nesrece ponoci"
   ]
  },
  {
   "cell_type": "code",
   "execution_count": 32,
   "id": "4becfa4d",
   "metadata": {},
   "outputs": [
    {
     "data": {
      "text/plain": [
       "0.8903135154123123"
      ]
     },
     "execution_count": 32,
     "metadata": {},
     "output_type": "execute_result"
    }
   ],
   "source": [
    "# Nesrece ponoci 23h -> 4h\n",
    "nesrece_ponoci = podatki19[(podatki19[:, 6].astype(int) < 5) | (podatki19[:, 6].astype(int) > 22)]\n",
    "\n",
    "# Delez nesrec ponoci\n",
    "len(nesrece_ponoci) / len(podatki19)"
   ]
  },
  {
   "cell_type": "markdown",
   "id": "c3bbbd07",
   "metadata": {},
   "source": [
    "### Delez prekomerno vinjenih ponoci"
   ]
  },
  {
   "cell_type": "code",
   "execution_count": 33,
   "id": "24441002",
   "metadata": {},
   "outputs": [
    {
     "data": {
      "text/plain": [
       "0.0490234760307753"
      ]
     },
     "execution_count": 33,
     "metadata": {},
     "output_type": "execute_result"
    }
   ],
   "source": [
    "alkotestPonoci = np.array([float(value) for value in podatki19[:,1]])\n",
    "nadMejaPonoci = alkotestPonoci[alkotestPonoci[:] >= meja]\n",
    "len(nadMejaPonoci) / len(nesrece_ponoci)"
   ]
  },
  {
   "cell_type": "markdown",
   "id": "3643f241",
   "metadata": {},
   "source": [
    "Priblizno 5% nesrec se zgodi ponoci. Od tega je kar 85% voznikov prekomerno vinjenih ponoci."
   ]
  },
  {
   "cell_type": "markdown",
   "id": "23e9e669",
   "metadata": {},
   "source": [
    "# Kolicina popitega skozi teden"
   ]
  },
  {
   "cell_type": "code",
   "execution_count": 70,
   "id": "b7c2772d",
   "metadata": {
    "scrolled": true
   },
   "outputs": [
    {
     "name": "stdout",
     "output_type": "stream",
     "text": [
      "Ponedeljek 0.02176056338028169 5538\n",
      "Torek 0.022250409165302795 4888\n",
      "Sreda 0.02541468064823643 5245\n",
      "Cetrtek 0.02175289575289576 5180\n",
      "Petek 0.034535616217089345 6191\n",
      "Sobota 0.05348583877995643 4131\n",
      "Nedelja 0.05346050870147257 2988\n"
     ]
    },
    {
     "data": {
      "image/png": "[encoded data removed]",
      "text/plain": [
       "<Figure size 936x288 with 2 Axes>"
      ]
     },
     "metadata": {
      "needs_background": "light"
     },
     "output_type": "display_data"
    }
   ],
   "source": [
    "labels = [\"Ponedeljek\", \"Torek\", \"Sreda\", \"Cetrtek\", \"Petek\", \"Sobota\", \"Nedelja\"]\n",
    "\n",
    "ponedeljek = podatki19[podatki19[:, 9] == \"Monday\", 1]\n",
    "torek = podatki19[podatki19[:, 9] == \"Tuesday\", 1]\n",
    "sreda = podatki19[podatki19[:, 9] == \"Wednesday\", 1]\n",
    "cetrtek = podatki19[podatki19[:, 9] == \"Thursday\", 1]\n",
    "petek = podatki19[podatki19[:, 9] == \"Friday\", 1]\n",
    "sobota = podatki19[podatki19[:, 9] == \"Saturday\", 1]\n",
    "nedelja = podatki19[podatki19[:, 9] == \"Sunday\", 1]\n",
    "\n",
    "avg_ponedeljek = sum(ponedeljek.astype(float)) / len(ponedeljek)\n",
    "avg_torek = sum(torek.astype(float)) / len(torek)\n",
    "avg_sreda = sum(sreda.astype(float)) / len(sreda)\n",
    "avg_cetrtek = sum(cetrtek.astype(float)) / len(cetrtek)\n",
    "avg_petek = sum(petek.astype(float)) / len(petek)\n",
    "avg_sobota = sum(sobota.astype(float)) / len(sobota)\n",
    "avg_nedelja = sum(nedelja.astype(float)) / len(nedelja)\n",
    "\n",
    "x_povp = [avg_ponedeljek, avg_torek, avg_sreda, avg_cetrtek, avg_petek, avg_sobota, avg_nedelja]\n",
    "x_sum = [len(ponedeljek), len(torek), len(sreda), len(cetrtek), len(petek), len(sobota), len(nedelja)]\n",
    "\n",
    "print(\"Ponedeljek\", avg_ponedeljek, len(ponedeljek))\n",
    "print(\"Torek\", avg_torek, len(torek))\n",
    "print(\"Sreda\", avg_sreda, len(sreda))\n",
    "print(\"Cetrtek\", avg_cetrtek, len(cetrtek))\n",
    "print(\"Petek\", avg_petek, len(petek))\n",
    "print(\"Sobota\", avg_sobota, len(sobota))\n",
    "print(\"Nedelja\", avg_nedelja, len(nedelja))\n",
    "\n",
    "\n",
    "figure, axis = plt.subplots(1, 2, figsize=(13, 4))\n",
    "  \n",
    "axis[0].bar(labels, x_povp)\n",
    "axis[0].set_title(\"Povprecno popitega na dan\")\n",
    "axis[0].set_xlabel(\"Avg\")\n",
    "  \n",
    "axis[1].bar(labels, x_sum)\n",
    "axis[1].set_title(\"Stevilo nesrec na dan\")\n",
    "axis[1].set_xlabel(\"Sum\")\n",
    "\n",
    "plt.show()"
   ]
  },
  {
   "cell_type": "markdown",
   "id": "b6ccabfe",
   "metadata": {},
   "source": [
    "Vidi se da skozi teden ljude manj pijejo, opazi se pa, da ze v petek je manjsi skok in potem se vecji za cez vikend. Cez vikend se vidi upad kolicina nesrec, verjetno, ker so ljudje bolj doma, skozi teden se pa vozijo v in iz sluzbe. Vidi se manjsi skok v petek, ker se po vsej verjetnosti vsem mudi domov."
   ]
  },
  {
   "cell_type": "markdown",
   "id": "f66b8b16",
   "metadata": {},
   "source": [
    "# Kolicina popitega po dela prostih praznikih"
   ]
  },
  {
   "cell_type": "code",
   "execution_count": 28,
   "id": "e684ed3c",
   "metadata": {},
   "outputs": [
    {
     "data": {
      "image/png": "[encoded data removed]",
      "text/plain": [
       "<Figure size 2880x360 with 1 Axes>"
      ]
     },
     "metadata": {
      "needs_background": "light"
     },
     "output_type": "display_data"
    }
   ],
   "source": [
    "sorted_podatki19 = podatki19[np.argsort(podatki19[:, 7])]\n",
    "\n",
    "sorted_podatki19_dict = dict()\n",
    "for row in sorted_podatki19:\n",
    "    datum = row[4]\n",
    "    \n",
    "    if datum not in sorted_podatki19_dict:\n",
    "        rez = sorted_podatki19[sorted_podatki19[:, 4] == datum, 1]\n",
    "        sorted_podatki19_dict[datum] = sum(rez.astype(float)) / len(rez)\n",
    "        \n",
    "labels = list(sorted_podatki19_dict.keys())\n",
    "x = list(sorted_podatki19_dict.values())\n",
    "\n",
    "dela_prosti_dnevi2019 = [\"01.01.2019\", \"02.01.2019\", \"08.02.2019\", \"21.04.2019\", \"22.04.2019\", \"27.04.2019\", \n",
    "                     \"01.05.2019\", \"02.05.2019\", \"09.06.2019\", \"25.06.2019\", \"15.08.2019\", \"31.10.2019\",\n",
    "                    \"01.11.2019\", \"25.12.2019\", \"26.12.2019\"]\n",
    "\n",
    "plt.figure(figsize=(40, 5))\n",
    "plt.subplot(1, 2, 1)\n",
    "plt.bar(labels, x)\n",
    "plt.xlabel(\"Dnevi\")\n",
    "\n",
    "for d in dela_prosti_dnevi2019:\n",
    "    plt.axvline(x=d, color='r', label=d)"
   ]
  },
  {
   "cell_type": "code",
   "execution_count": 31,
   "id": "ff5728ef",
   "metadata": {
    "scrolled": true
   },
   "outputs": [
    {
     "name": "stdout",
     "output_type": "stream",
     "text": [
      "02.01.2019 0.03125\n",
      "03.01.2019 0.00676923076923077\n",
      "Razlika: -0.02448076923076923\n",
      "----------------\n",
      "08.02.2019 0.06426229508196721\n",
      "09.02.2019 0.026515151515151516\n",
      "Razlika: -0.03774714356681569\n",
      "----------------\n",
      "21.04.2019 0.09046153846153845\n",
      "22.04.2019 0.026385542168674697\n",
      "Razlika: -0.06407599629286376\n",
      "----------------\n",
      "27.04.2019 0.022794117647058826\n",
      "28.04.2019 0.061290322580645165\n",
      "Razlika: 0.03849620493358634\n",
      "----------------\n",
      "02.05.2019 0.07400000000000001\n",
      "03.05.2019 0.01574074074074074\n",
      "Razlika: -0.058259259259259275\n",
      "----------------\n"
     ]
    }
   ],
   "source": [
    "print(\"02.01.2019\", sorted_podatki19_dict[\"02.01.2019\"])\n",
    "print(\"03.01.2019\", sorted_podatki19_dict[\"03.01.2019\"])\n",
    "print(\"Razlika:\", sorted_podatki19_dict[\"03.01.2019\"] - sorted_podatki19_dict[\"02.01.2019\"])\n",
    "print(\"----------------\")\n",
    "\n",
    "print(\"08.02.2019\", sorted_podatki19_dict[\"08.02.2019\"])\n",
    "print(\"09.02.2019\", sorted_podatki19_dict[\"09.02.2019\"])\n",
    "print(\"Razlika:\", sorted_podatki19_dict[\"09.02.2019\"] - sorted_podatki19_dict[\"08.02.2019\"])\n",
    "print(\"----------------\")\n",
    "\n",
    "print(\"21.04.2019\", sorted_podatki19_dict[\"21.04.2019\"])\n",
    "print(\"22.04.2019\", sorted_podatki19_dict[\"22.04.2019\"])\n",
    "print(\"Razlika:\", sorted_podatki19_dict[\"22.04.2019\"] - sorted_podatki19_dict[\"21.04.2019\"])\n",
    "print(\"----------------\")\n",
    "\n",
    "print(\"27.04.2019\", sorted_podatki19_dict[\"27.04.2019\"])\n",
    "print(\"28.04.2019\", sorted_podatki19_dict[\"28.04.2019\"])\n",
    "print(\"Razlika:\", sorted_podatki19_dict[\"28.04.2019\"] - sorted_podatki19_dict[\"27.04.2019\"])\n",
    "print(\"----------------\")\n",
    "\n",
    "print(\"02.05.2019\", sorted_podatki19_dict[\"02.05.2019\"])\n",
    "print(\"03.05.2019\", sorted_podatki19_dict[\"03.05.2019\"])\n",
    "print(\"Razlika:\", sorted_podatki19_dict[\"03.05.2019\"] - sorted_podatki19_dict[\"02.05.2019\"])\n",
    "print(\"----------------\")"
   ]
  },
  {
   "cell_type": "markdown",
   "id": "e20d16e8",
   "metadata": {},
   "source": [
    "Iz spodnjih rezulatov kaze, da dela prosti prazniki ne vplivajo na vinjenost voznikov. Tezko je reci ali zato, ker\n",
    "praznike prezivijo doma in se ne vozijo ali pa ker ne popijejo vec kot ob drugih dnevih."
   ]
  },
  {
   "cell_type": "markdown",
   "id": "5fcc2b65",
   "metadata": {},
   "source": [
    "# Nesrece po urah"
   ]
  },
  {
   "cell_type": "code",
   "execution_count": 15,
   "id": "1bf2d417",
   "metadata": {},
   "outputs": [],
   "source": [
    "podatki19[:, 5]\n",
    "ura_avg_dict = dict()\n",
    "ura_sum_dict = dict()\n",
    "\n",
    "for row in podatki19:\n",
    "    ura = row[5]\n",
    "    rez = podatki19[podatki19[:, 5] == ura, 1].astype(float)\n",
    "    if ura not in ura_avg_dict:\n",
    "        ura_avg_dict[ura] = sum(rez) / len(rez)\n",
    "        ura_sum_dict[ura] = len(rez)"
   ]
  },
  {
   "cell_type": "code",
   "execution_count": 16,
   "id": "777b60fb",
   "metadata": {
    "scrolled": false
   },
   "outputs": [
    {
     "data": {
      "image/png": "[encoded data removed]",
      "text/plain": [
       "<Figure size 936x288 with 2 Axes>"
      ]
     },
     "metadata": {
      "needs_background": "light"
     },
     "output_type": "display_data"
    }
   ],
   "source": [
    "ura_avg_dict = dict(sorted(ura_avg_dict.items()))\n",
    "\n",
    "ura_sum_dict = dict(sorted(ura_sum_dict.items()))\n",
    "\n",
    "labelsAvg = list(ura_avg_dict.keys())\n",
    "xAvg = list(ura_avg_dict.values())\n",
    "\n",
    "labelsSum = list(ura_sum_dict.keys())\n",
    "xSum = list(ura_sum_dict.values())\n",
    "\n",
    "figure, axis = plt.subplots(1, 2, figsize=(13, 4))\n",
    "  \n",
    "axis[0].bar(labelsAvg, xAvg)\n",
    "axis[0].set_title(\"Povprecno popitega ob dani uri\")\n",
    "axis[0].set_xlabel(\"Avg\")\n",
    "  \n",
    "axis[1].bar(labelsSum, xSum)\n",
    "axis[1].set_title(\"Stevilo nesrec ob dani uri\")\n",
    "axis[1].set_xlabel(\"Sum\")\n",
    "\n",
    "plt.show()"
   ]
  },
  {
   "cell_type": "markdown",
   "id": "32c62c74",
   "metadata": {},
   "source": [
    "Kot se vidi iz spodnjih grafov se kolicinsko zgodi vec nesrec podnevi, vendar ponoci so vozniki bolj vinjeni. Grafa sta si skoraj inverzna."
   ]
  },
  {
   "cell_type": "markdown",
   "id": "bf922b0e",
   "metadata": {},
   "source": [
    "# Moski vs zenske"
   ]
  },
  {
   "cell_type": "code",
   "execution_count": 41,
   "id": "d414dc95",
   "metadata": {},
   "outputs": [
    {
     "data": {
      "text/plain": [
       "0.678258833172331"
      ]
     },
     "execution_count": 41,
     "metadata": {},
     "output_type": "execute_result"
    }
   ],
   "source": [
    "nesrece_moski = podatki19[podatki19[:, 5] == \"MOŠKI\"]\n",
    "len(nesrece_moski) / len(podatki19)"
   ]
  },
  {
   "cell_type": "markdown",
   "id": "fa2b441a",
   "metadata": {},
   "source": [
    "Moski so odgovorni za priblizno 67% nesrec. To se bo tudi videlo v spodnjem razdelku."
   ]
  },
  {
   "cell_type": "markdown",
   "id": "6221e566",
   "metadata": {},
   "source": [
    "# Skupna povprecna vinjenost"
   ]
  },
  {
   "cell_type": "code",
   "execution_count": 19,
   "id": "90726907",
   "metadata": {},
   "outputs": [
    {
     "data": {
      "text/plain": [
       "0.03131494979655157"
      ]
     },
     "execution_count": 19,
     "metadata": {},
     "output_type": "execute_result"
    }
   ],
   "source": [
    "sum(podatki19[:, 1].astype(float)) / len(podatki19)"
   ]
  },
  {
   "cell_type": "markdown",
   "id": "4ee78896",
   "metadata": {},
   "source": [
    "# Nesrece glede na starostne skupine"
   ]
  },
  {
   "cell_type": "code",
   "execution_count": 16,
   "id": "c5bd9c57",
   "metadata": {},
   "outputs": [
    {
     "name": "stdout",
     "output_type": "stream",
     "text": [
      "Mladi\n",
      "Stevilo nesrec: 4563\n",
      "Povprecna vinjenost: 0.025768134998904228\n",
      "Delez moskih: 0.6846373000219154\n",
      "Delez nesrec: 0.13357337314481427\n",
      "--------------------\n",
      "Srednji\n",
      "Stevilo nesrec: 24366\n",
      "Povprecna vinjenost: 0.03466428630058271\n",
      "Delez moskih: 0.6769679060986621\n",
      "Delez nesrec: 0.7132695178712567\n",
      "--------------------\n",
      "Stari\n",
      "Stevilo nesrec: 4565\n",
      "Povprecna vinjenost: 0.023518072289156627\n",
      "Delez moskih: 0.6893756845564074\n",
      "Delez nesrec: 0.13363191944029743\n",
      "--------------------\n",
      "Drugo\n",
      "Stevilo nesrec: 667\n",
      "Povprecna vinjenost: 0.00026986506746626683\n",
      "Delez moskih: 0.6056971514242878\n",
      "Delez nesrec: 0.019525189543631628\n",
      "--------------------\n"
     ]
    }
   ],
   "source": [
    "mladi = podatki19[podatki19[:, 10] == \"1\"]\n",
    "odrasli = podatki19[podatki19[:, 10] == \"2\"]\n",
    "starejsi = podatki19[podatki19[:, 10] == \"3\"]\n",
    "drugo = podatki19[podatki19[:, 10] == \"-1\"]\n",
    "\n",
    "mladi_avg_vinj = sum(mladi[:, 1].astype(float)) / len(mladi)\n",
    "odrasli_avg_vinj = sum(odrasli[:, 1].astype(float)) / len(odrasli)\n",
    "starejsi_avg_vinj = sum(starejsi[:, 1].astype(float)) / len(starejsi)\n",
    "drugo_avg_vinj = sum(drugo[:, 1].astype(float)) / len(drugo)\n",
    "\n",
    "mladi_moski = len(mladi[mladi[:, 5] == \"MOŠKI\"])\n",
    "odrasli_moski = len(odrasli[odrasli[:, 5] == \"MOŠKI\"])\n",
    "starejsi_moski = len(starejsi[starejsi[:, 5] == \"MOŠKI\"])\n",
    "drugo_moski = len(drugo[drugo[:, 5] == \"MOŠKI\"])\n",
    "\n",
    "print(\"Mladi\")\n",
    "print(\"Stevilo nesrec:\", len(mladi))\n",
    "print(\"Povprecna vinjenost:\", mladi_avg_vinj)\n",
    "print(\"Delez moskih:\", mladi_moski / len(mladi))\n",
    "print(\"Delez nesrec:\", len(mladi) / len(podatki19))\n",
    "print(\"--------------------\")\n",
    "\n",
    "print(\"Srednji\")\n",
    "print(\"Stevilo nesrec:\", len(odrasli))\n",
    "print(\"Povprecna vinjenost:\", odrasli_avg_vinj)\n",
    "print(\"Delez moskih:\", odrasli_moski / len(odrasli))\n",
    "print(\"Delez nesrec:\", len(odrasli) / len(podatki19))\n",
    "print(\"--------------------\")\n",
    "\n",
    "print(\"Stari\")\n",
    "print(\"Stevilo nesrec:\", len(starejsi))\n",
    "print(\"Povprecna vinjenost:\", starejsi_avg_vinj)\n",
    "print(\"Delez moskih:\", starejsi_moski / len(starejsi))\n",
    "print(\"Delez nesrec:\", len(starejsi) / len(podatki19))\n",
    "print(\"--------------------\")\n",
    "\n",
    "print(\"Drugo\")\n",
    "print(\"Stevilo nesrec:\", len(drugo))\n",
    "print(\"Povprecna vinjenost:\", drugo_avg_vinj)\n",
    "print(\"Delez moskih:\", drugo_moski / len(drugo))\n",
    "print(\"Delez nesrec:\", len(drugo) / len(podatki19))\n",
    "print(\"--------------------\")"
   ]
  },
  {
   "cell_type": "code",
   "execution_count": 17,
   "id": "609998c3",
   "metadata": {
    "scrolled": false
   },
   "outputs": [
    {
     "data": {
      "image/png": "[encoded data removed]",
      "text/plain": [
       "<Figure size 1080x288 with 1 Axes>"
      ]
     },
     "metadata": {
      "needs_background": "light"
     },
     "output_type": "display_data"
    }
   ],
   "source": [
    "labels = [\"Mladi\", \"Odrasli\", \"Starejsi\", \"Drugo\"]\n",
    "x = [len(mladi), len(odrasli), len(starejsi), len(drugo)]\n",
    "\n",
    "plt.figure(figsize=(15,4))\n",
    "plt.subplot(1, 2, 1)\n",
    "plt.bar(labels, x)\n",
    "plt.title(\"Porazdelitev stevila nesrec po starostnih skupinah\")\n",
    "plt.xlabel(\"Skupina\")\n",
    "plt.show()"
   ]
  },
  {
   "cell_type": "markdown",
   "id": "a4038cd4",
   "metadata": {},
   "source": [
    "Vidi se, da starostna skupina odrasli zagresijo najvec nesrec in so tudi v povprecju najbolj vinjeni. To je verjetno, ker jih ima vecina sluzbo in se iz nje vracajo ob casih, kjer so nesrece najbolj pogoste. Za najvecjo vinjenost pa poskrbijo gredo po sluzbi se kaj spiti in potem sele domov.\n",
    "Pri vseh starostnih skupinah se pa vidi, da moski konstantno zagresijo okoli 67% nesrec."
   ]
  },
  {
   "cell_type": "markdown",
   "id": "62ebd4a4",
   "metadata": {},
   "source": [
    "# Letni casi"
   ]
  },
  {
   "cell_type": "code",
   "execution_count": 71,
   "id": "6fe91462",
   "metadata": {},
   "outputs": [
    {
     "name": "stdout",
     "output_type": "stream",
     "text": [
      "Pomlad\n",
      "Stevilo nesrec: 8693\n",
      "Povprecna vinjenost: 0.031049119981594344\n",
      "----------------\n",
      "Poletje\n",
      "Stevilo nesrec: 9106\n",
      "Povprecna vinjenost: 0.03148034263123218\n",
      "----------------\n",
      "Jesen\n",
      "Stevilo nesrec: 9328\n",
      "Povprecna vinjenost: 0.029775943396226422\n",
      "----------------\n",
      "Zima\n",
      "Stevilo nesrec: 7034\n",
      "Povprecna vinjenost: 0.03347028717657094\n"
     ]
    }
   ],
   "source": [
    "pomlad = podatki19[podatki19[:, 15] == \"1\"]\n",
    "poletje = podatki19[podatki19[:, 15] == \"2\"]\n",
    "jesen = podatki19[podatki19[:, 15] == \"3\"]\n",
    "zima = podatki19[podatki19[:, 15] == \"4\"]\n",
    "\n",
    "print(\"Pomlad\")\n",
    "print(\"Stevilo nesrec:\", len(pomlad))\n",
    "print(\"Povprecna vinjenost:\", sum(pomlad[:, 1].astype(float)) / len(pomlad))\n",
    "print(\"----------------\")\n",
    "\n",
    "print(\"Poletje\")\n",
    "print(\"Stevilo nesrec:\", len(poletje))\n",
    "print(\"Povprecna vinjenost:\", sum(poletje[:, 1].astype(float)) / len(poletje))\n",
    "print(\"----------------\")\n",
    "\n",
    "print(\"Jesen\")\n",
    "print(\"Stevilo nesrec:\", len(jesen))\n",
    "print(\"Povprecna vinjenost:\", sum(jesen[:, 1].astype(float)) / len(jesen))\n",
    "print(\"----------------\")\n",
    "\n",
    "print(\"Zima\")\n",
    "print(\"Stevilo nesrec:\", len(zima))\n",
    "print(\"Povprecna vinjenost:\", sum(zima[:, 1].astype(float)) / len(zima))\n"
   ]
  },
  {
   "cell_type": "code",
   "execution_count": 69,
   "id": "55f198eb",
   "metadata": {},
   "outputs": [
    {
     "data": {
      "image/png": "[encoded data removed]",
      "text/plain": [
       "<Figure size 1080x288 with 1 Axes>"
      ]
     },
     "metadata": {
      "needs_background": "light"
     },
     "output_type": "display_data"
    }
   ],
   "source": [
    "labels = [\"Pomlad\", \"Poletje\", \"Jesen\", \"Zima\"]\n",
    "x = [len(pomlad), len(poletje), len(jesen), len(zima)]\n",
    "\n",
    "plt.figure(figsize=(15,4))\n",
    "plt.subplot(1, 2, 1)\n",
    "plt.bar(labels, x)\n",
    "plt.title(\"Stevilo nesrec po letnih casih\")\n",
    "plt.xlabel(\"Letni cas\")\n",
    "plt.show()"
   ]
  },
  {
   "cell_type": "markdown",
   "id": "587b0ea5",
   "metadata": {},
   "source": [
    "Pomladi, poleti in jeseni si je stevilo nesrec podobno, pozimi se vidi upadec stevila nesrec. Povprecna vinjenost je v vseh letnih casih priblizno ista, kar kaze, da letni casi ne vplivajo toliko na kolicino popitega."
   ]
  },
  {
   "cell_type": "markdown",
   "id": "2ead5a54",
   "metadata": {},
   "source": [
    "# Zaključek\n",
    "Po najinem mnenju je tezko sklepati o alkoholiziranosti splosne populacije saj ne vemo koliko ljudi pije doma ali pa se v enem avtu vozi vec vinjenih oseb. Zna biti pa dober indikator za navade splosne populacije, v smislu ob katerih casih najvec pijejo. Pri preverjanju dela prostih praznikov nisva nasla nekega prirastka vinjenosti ali stevila nesrec. Pri preverjanju letnih casov se vinjenost nic ne dvigne in stevilo nesrec je za pomlad, poletje, jesen priblizno isto, vendar se vidi upad v zimskem casu, verjetno, ker se ljudje zadrzavajo bolj doma na toplem kot da bi sli ven na pijaco."
   ]
  }
 ],
 "metadata": {
  "kernelspec": {
   "display_name": "Python 3 (ipykernel)",
   "language": "python",
   "name": "python3"
  },
  "language_info": {
   "codemirror_mode": {
    "name": "ipython",
    "version": 3
   },
   "file_extension": ".py",
   "mimetype": "text/x-python",
   "name": "python",
   "nbconvert_exporter": "python",
   "pygments_lexer": "ipython3",
   "version": "3.7.13"
  }
 },
 "nbformat": 4,
 "nbformat_minor": 5
}
